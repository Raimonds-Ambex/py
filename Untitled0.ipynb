{
  "nbformat": 4,
  "nbformat_minor": 0,
  "metadata": {
    "colab": {
      "provenance": [],
      "toc_visible": true,
      "authorship_tag": "ABX9TyNBO/Zm0Lp+jB77ifUL5Es9",
      "include_colab_link": true
    },
    "kernelspec": {
      "name": "python3",
      "display_name": "Python 3"
    },
    "language_info": {
      "name": "python"
    }
  },
  "cells": [
    {
      "cell_type": "markdown",
      "metadata": {
        "id": "view-in-github",
        "colab_type": "text"
      },
      "source": [
        "<a href=\"https://colab.research.google.com/github/RaimondsRam/py/blob/main/Untitled0.ipynb\" target=\"_parent\"><img src=\"https://colab.research.google.com/assets/colab-badge.svg\" alt=\"Open In Colab\"/></a>"
      ]
    },
    {
      "cell_type": "markdown",
      "source": [],
      "metadata": {
        "id": "q1TrJGcir7pq"
      }
    },
    {
      "cell_type": "code",
      "execution_count": 15,
      "metadata": {
        "colab": {
          "base_uri": "https://localhost:8080/"
        },
        "id": "d6gdFT31mfVH",
        "outputId": "b49146fb-ec45-4e09-ab3a-efab2ecc6d52"
      },
      "outputs": [
        {
          "output_type": "stream",
          "name": "stdout",
          "text": [
            "Found 30 cars\n",
            "[['', '', 'Subaru Impreza 2.0D Awd 2010. Tam ir 150hp un 6+1 manuālā ātrumkārba, kas pi', 'Impreza', '2010', '2.0D', '278 tūkst.', '2,850  €'], ['', '', 'Motora jauda 110 kw. Mehāniskā 6-pakāpju ātrumkārba. Patstāvīgā 4x4 pilnpied', 'Forester', '2015', '2.0', '116 tūkst.', '11,000  €'], ['', '', 'Subaru Forester XT 2.0 Turbo 177kw/240zs ļoti labā stāvoklī. Ļoti dinamisks', 'Forester', '2013', '2.0', '212 tūkst.', '11,300  €'], ['', '', 'Pārdodu labu auto, teicamā tehniskā kārtībā.', 'Forester', '2017', '2.0D', '147 tūkst.', '13,900  €'], ['', '', 'Pārdod labu subaru outback. \\r\\nLabākajā aprīkojumā - summit. \\r\\nLatvijā 2 gadu', 'OUTBACK', '2016', '2.0D', '145 tūkst.', '13,900  €'], ['', '', 'Jums būs ļoti labs pirkums, ja nebiedēs tas ka auto no ārpuses neizskatās la', 'OUTBACK', '2005', '2.5', '399 tūkst.', '1,950  €'], ['', '', 'Subaru Legacy Outback 2.5 benzīns/gāze Awd 121kW / 165zs Automāts. Automašīn', 'OUTBACK', '2006', '2.5', '258 tūkst.', '2,550  €'], ['', '', 'Subaru Outback. 2.0d 110kw/150hp. Jauna TA. Ļoti ērts un ekanomisks auto. Ap', 'OUTBACK', '2010', '2.0D', '186 tūkst.', '5,250  €'], ['', '', 'Pārdod 1994.gada Impreza Wrx. Importēts no Japānas, īsais šasijas nr. 260zs', 'Impreza', '1994', '2.0', '220 tūkst.', '2,950  €'], ['', '', 'Pārdodu Subaru Legacy 2.0d 110kw. Ietilpīgs un ekonomisks auto labā tehniskā', 'Legacy', '2010', '2.0D', '392 tūkst.', '3,995  €'], ['', '', 'Subaru Outback Awd 2.5 automātisko ātrumkārbu\\r\\n\\r\\nAutomašīna pirkta Latvijā p', 'OUTBACK', '2021', '2.5', '92 tūkst.', '28,750  €'], ['', '', 'Subaru Outback Awd 2.0D\\r\\nTikko ievests no Beļģijas. \\r\\nLielisks auto ar pati', 'OUTBACK', '2016', '2.0D', '200 tūkst.', '11,990  €'], ['', '', 'Продаётся Subaru Legacy 2004 года Кпп Автомат 2.5 бензин в очень хорошем сос', 'Legacy', '2004', '2.5', '293 tūkst.', '2,000  €'], ['', '', 'Jaunais Subaru Forester Limited\\r\\n2.5 i 134 kw 183 hp rindas Lcd monitors,', 'Forester', '2022', '2.5D', '-', '33,900  €'], ['', '', 'Outback, Automāts, adaptīvais Xenons, ādas salons, el. reg. sēdekļi ar apsil', 'OUTBACK', '2015', '2.0D', '200 tūkst.', '10,990  €'], ['', '', 'Manuālā pārnesumu kārba, Pilnpiedziņa, Kruīzkontrole, Kondicionieris, Fm/cd/', 'Impreza', '2009', '2.0', '244 tūkst.', '1,800  €'], ['', '', 'Pardodas labs darba auto. priekšējais stikls jamaina. Plaisa. Kondicionieris', 'Forester', '2006', '2.0', '480 tūkst.', '1,600  €'], ['', '', 'Subaru Wrx Sti version 5 Lhd. 1998. gada. 2.0 benzīns, 206 Kw (280 Hp)\\r\\n\\r\\nPa', 'Impreza', '1998', '2.0', '145 tūkst.', '22,900  €'], ['', '', 'Subaru Outback 2.5i Awd. Pvn. Garantija. LV auto. \\r\\n\\r\\nIegādājies savu auto p', 'OUTBACK', '2021', '2.5', '92 tūkst.', '30,990  €'], ['', '', 'Subaru Outback 2016. gada 2.0 dīzelis. \\r\\nPirkta Latvijā, apkopes pie Subaru', 'OUTBACK', '2016', '2.0D', '260 tūkst.', '10,500  €'], ['', '', 'Продается Субару Форестер куплен новым в Латвии. Оригинальный пробег 192000к', 'Forester', '2005', '2.0', '192 tūkst.', '3,400  €'], ['', '', 'Машина в отличном состоянии, новый ТО пройден без замечаний и с первого раза', 'Forester', '2010', '2.0D', '-', '3,250  €'], ['', '', 'Jauns auto .Auto nostāvējis noliktavā visu šo laiku pirmā reģistrācija 2024g', 'OUTBACK', '2014', '2.0D', '3 tūkst.', '23,000  €'], ['', '', 'Subaru Legacy Outback Awd A/t. 2016. gada. 2.5 benzīns, 129 Kw (175 Hp)\\r\\n\\r\\nP', 'Legacy', '2016', '2.5', '207 tūkst.', '11,900  €'], ['', '', 'Auto iegādāts Vācijā ar dzinēja defektu, Recro profesionāli restaurēts dzinē', 'Forester', '2013', '2.0D', '216 tūkst.', '10,990  €'], ['', '', 'Pārdodu Subaru.', 'Impreza', '1999', '2.0', '200 tūkst.', '2,200  €'], ['', '', '5. paaudzes krosovers, visu riteņu piedziņa - Summetrical All Wheel Drive, k', 'Forester', '2019', '2.5', '48 tūkst.', '22,700  €'], ['', '', 'Smuks, erts, ietilpigs auto, laba tehniska un vizuala stavokli.', 'Forester', '2021', '2.5', '40 tūkst.', '27,450  €'], ['', '', 'Saimnieks tirgo subaru outback, jauns iegādāts Latvijā, 1 saimnieks, labā st', 'OUTBACK', '2018', '2.5', '88 tūkst.', '21,500  €'], ['', '', 'Pārdod vai maina pret auto ar automātisko ātrumkārbu var piemaksu uz abām pu', 'Forester', '2011', '2.0D', '340 tūkst.', '2,900  €']]\n"
          ]
        }
      ],
      "source": [
        "import requests\n",
        "\n",
        "# we will want BeautifulSoup to parse the data\n",
        "from bs4 import BeautifulSoup\n",
        "\n",
        "url = \"https://www.ss.lv/lv/transport/cars/subaru/\"\n",
        "\n",
        "response = requests.get(url)\n",
        "\n",
        "if response.status_code == 200:\n",
        "  soup = BeautifulSoup(response.text, 'lxml')\n",
        "\n",
        "  all_rows = soup.find_all(\"tr\")\n",
        "  cars = []\n",
        "  for row in all_rows:\n",
        "    if row.get(\"id\", \"\").startswith(\"tr_\") and not row.get(\"id\", \"\").startswith(\"tr_bnr\"):\n",
        "      cars.append(row)\n",
        "\n",
        "print(f\"Found {len(cars)} cars\")\n",
        "\n",
        "selected = []\n",
        "for c in cars:\n",
        "  c = [td.text.strip() for td in c.find_all(\"td\")]\n",
        "  selected.append(c)\n",
        "\n",
        "print(selected)\n"
      ]
    }
  ]
}